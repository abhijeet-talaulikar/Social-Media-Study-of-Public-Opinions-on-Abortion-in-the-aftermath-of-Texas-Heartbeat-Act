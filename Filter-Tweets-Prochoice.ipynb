{
 "cells": [
  {
   "cell_type": "code",
   "execution_count": null,
   "id": "06abf3b3",
   "metadata": {},
   "outputs": [],
   "source": [
    "import numpy as np\n",
    "import pandas as pd\n",
    "import os\n",
    "import glob"
   ]
  },
  {
   "cell_type": "markdown",
   "id": "f8ed522f",
   "metadata": {},
   "source": [
    "### Concatenate"
   ]
  },
  {
   "cell_type": "code",
   "execution_count": null,
   "id": "3dcef566",
   "metadata": {},
   "outputs": [],
   "source": [
    "def concatCSV(directoryPaths):\n",
    "    outputs = []\n",
    "    for d in directoryPaths:\n",
    "        all_filenames = [i for i in glob.glob(f\"{d}/*.csv\")]\n",
    "        combined_csv = pd.concat([pd.read_csv(f) for f in all_filenames ]).astype(str)\n",
    "        outputs.append(combined_csv)\n",
    "    \n",
    "    return pd.concat(outputs)"
   ]
  },
  {
   "cell_type": "code",
   "execution_count": null,
   "id": "cbb66997",
   "metadata": {},
   "outputs": [],
   "source": [
    "def isRetweet(text):\n",
    "    return text.startswith('RT ')"
   ]
  },
  {
   "cell_type": "code",
   "execution_count": null,
   "id": "0c6c05b5",
   "metadata": {},
   "outputs": [],
   "source": [
    "path_31Aug = \"Data_31Aug/term = abortion\"\n",
    "path_1Sep = \"Data_1Sep/abortion\""
   ]
  },
  {
   "cell_type": "code",
   "execution_count": null,
   "id": "2aa4a4cd",
   "metadata": {},
   "outputs": [],
   "source": [
    "prochoice_output = concatCSV([path_31Aug,path_1Sep,path_2Sep])"
   ]
  },
  {
   "cell_type": "markdown",
   "id": "bc3f4573",
   "metadata": {},
   "source": [
    "### Discard retweets"
   ]
  },
  {
   "cell_type": "code",
   "execution_count": null,
   "id": "13fd150d",
   "metadata": {},
   "outputs": [],
   "source": [
    "prochoice_output[\"isRetweet\"] = prochoice_output.text.apply(isRetweet)"
   ]
  },
  {
   "cell_type": "code",
   "execution_count": null,
   "id": "c6a1679a",
   "metadata": {},
   "outputs": [],
   "source": [
    "prochoice_output = prochoice_output[prochoice_output.isRetweet == False]"
   ]
  },
  {
   "cell_type": "code",
   "execution_count": null,
   "id": "2d8869a6",
   "metadata": {},
   "outputs": [],
   "source": [
    "prochoice_output"
   ]
  },
  {
   "cell_type": "markdown",
   "id": "cdffc489",
   "metadata": {},
   "source": [
    "### Discard duplicates"
   ]
  },
  {
   "cell_type": "code",
   "execution_count": null,
   "id": "3cacb14b",
   "metadata": {},
   "outputs": [],
   "source": [
    "prochoice_output = prochoice_output.drop_duplicates(['id'])"
   ]
  },
  {
   "cell_type": "code",
   "execution_count": null,
   "id": "9dbaa5e0",
   "metadata": {},
   "outputs": [],
   "source": [
    "prochoice_output"
   ]
  },
  {
   "cell_type": "markdown",
   "id": "dbc0a565",
   "metadata": {},
   "source": [
    "### Save output"
   ]
  },
  {
   "cell_type": "code",
   "execution_count": null,
   "id": "d55eb4b3",
   "metadata": {},
   "outputs": [],
   "source": [
    "prochoice_output.drop(['isRetweet'],inplace=True,axis=1)\n",
    "prochoice_output['Class'] = 1\n",
    "prochoice_output.to_csv('concatenatedAbortion.csv', index=False)"
   ]
  },
  {
   "cell_type": "code",
   "execution_count": null,
   "id": "a9b81848",
   "metadata": {},
   "outputs": [],
   "source": [
    "fullOutput = pd.concat([pd.read_csv('concatenatedAbortion.csv'), pd.read_csv('concatenatedProlife.csv')])\n",
    "fullOutput.drop_duplicates(['id'], inplace=True)\n",
    "print(fullOutput.shape)\n",
    "fullOutput.to_csv('concatenatedAll.csv', index=False)"
   ]
  },
  {
   "cell_type": "code",
   "execution_count": null,
   "id": "4fdcb838",
   "metadata": {},
   "outputs": [],
   "source": [
    "temp = pd.read_csv('concatenatedAll.csv')\n",
    "temp1 = pd.read_csv('concatenatedProlife_new.csv')\n",
    "temp2 = pd.concat([temp,temp1])"
   ]
  },
  {
   "cell_type": "code",
   "execution_count": null,
   "id": "6a292e66",
   "metadata": {},
   "outputs": [],
   "source": [
    "temp3 = temp2.drop_duplicates(['id'])"
   ]
  },
  {
   "cell_type": "code",
   "execution_count": null,
   "id": "64c65ede",
   "metadata": {},
   "outputs": [],
   "source": [
    "temp3.to_csv('concatenatedAll.csv',index=False)"
   ]
  }
 ],
 "metadata": {
  "kernelspec": {
   "display_name": "Python 3 (ipykernel)",
   "language": "python",
   "name": "python3"
  },
  "language_info": {
   "codemirror_mode": {
    "name": "ipython",
    "version": 3
   },
   "file_extension": ".py",
   "mimetype": "text/x-python",
   "name": "python",
   "nbconvert_exporter": "python",
   "pygments_lexer": "ipython3",
   "version": "3.9.7"
  }
 },
 "nbformat": 4,
 "nbformat_minor": 5
}
