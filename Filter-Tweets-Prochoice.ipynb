{
 "cells": [
  {
   "cell_type": "code",
   "execution_count": 20,
   "id": "06abf3b3",
   "metadata": {},
   "outputs": [],
   "source": [
    "import numpy as np\n",
    "import pandas as pd\n",
    "import os\n",
    "import glob"
   ]
  },
  {
   "cell_type": "markdown",
   "id": "f8ed522f",
   "metadata": {},
   "source": [
    "### Concatenate"
   ]
  },
  {
   "cell_type": "code",
   "execution_count": 21,
   "id": "3dcef566",
   "metadata": {},
   "outputs": [],
   "source": [
    "def concatCSV(directoryPaths):\n",
    "    outputs = []\n",
    "    for d in directoryPaths:\n",
    "        all_filenames = [i for i in glob.glob(f\"{d}/*.csv\")]\n",
    "        combined_csv = pd.concat([pd.read_csv(f) for f in all_filenames ]).astype(str)\n",
    "        outputs.append(combined_csv)\n",
    "    \n",
    "    return pd.concat(outputs)"
   ]
  },
  {
   "cell_type": "code",
   "execution_count": 22,
   "id": "cbb66997",
   "metadata": {},
   "outputs": [],
   "source": [
    "def isRetweet(text):\n",
    "    return text.startswith('RT ')"
   ]
  },
  {
   "cell_type": "code",
   "execution_count": 23,
   "id": "0c6c05b5",
   "metadata": {},
   "outputs": [],
   "source": [
    "path_31Aug = \"Data_31Aug/term = abortion\"\n",
    "path_1Sep = \"Data_1Sep/abortion\""
   ]
  },
  {
   "cell_type": "code",
   "execution_count": 24,
   "id": "2aa4a4cd",
   "metadata": {},
   "outputs": [],
   "source": [
    "prochoice_output = concatCSV([path_31Aug,path_1Sep,path_2Sep])"
   ]
  },
  {
   "cell_type": "markdown",
   "id": "bc3f4573",
   "metadata": {},
   "source": [
    "### Discard retweets"
   ]
  },
  {
   "cell_type": "code",
   "execution_count": 25,
   "id": "13fd150d",
   "metadata": {},
   "outputs": [],
   "source": [
    "prochoice_output[\"isRetweet\"] = prochoice_output.text.apply(isRetweet)"
   ]
  },
  {
   "cell_type": "code",
   "execution_count": 26,
   "id": "c6a1679a",
   "metadata": {},
   "outputs": [],
   "source": [
    "prochoice_output = prochoice_output[prochoice_output.isRetweet == False]"
   ]
  },
  {
   "cell_type": "code",
   "execution_count": 27,
   "id": "2d8869a6",
   "metadata": {},
   "outputs": [
    {
     "data": {
      "text/html": [
       "<div>\n",
       "<style scoped>\n",
       "    .dataframe tbody tr th:only-of-type {\n",
       "        vertical-align: middle;\n",
       "    }\n",
       "\n",
       "    .dataframe tbody tr th {\n",
       "        vertical-align: top;\n",
       "    }\n",
       "\n",
       "    .dataframe thead th {\n",
       "        text-align: right;\n",
       "    }\n",
       "</style>\n",
       "<table border=\"1\" class=\"dataframe\">\n",
       "  <thead>\n",
       "    <tr style=\"text-align: right;\">\n",
       "      <th></th>\n",
       "      <th>text</th>\n",
       "      <th>id</th>\n",
       "      <th>author_id</th>\n",
       "      <th>in_reply_to_user_id</th>\n",
       "      <th>isRetweet</th>\n",
       "    </tr>\n",
       "  </thead>\n",
       "  <tbody>\n",
       "    <tr>\n",
       "      <th>7</th>\n",
       "      <td>@pltxknower @Estries1 @anarcho_parm Oh no for ...</td>\n",
       "      <td>1432855547187978241</td>\n",
       "      <td>2822594617</td>\n",
       "      <td>nan</td>\n",
       "      <td>False</td>\n",
       "    </tr>\n",
       "    <tr>\n",
       "      <th>19</th>\n",
       "      <td>A Guide on How to Get Abortion Pills | Plan C ...</td>\n",
       "      <td>1432855498873839621</td>\n",
       "      <td>153642560</td>\n",
       "      <td>nan</td>\n",
       "      <td>False</td>\n",
       "    </tr>\n",
       "    <tr>\n",
       "      <th>23</th>\n",
       "      <td>WTF!!!  Abbott and male Republicans:  MINE, AN...</td>\n",
       "      <td>1432855481127739392</td>\n",
       "      <td>3449791700</td>\n",
       "      <td>nan</td>\n",
       "      <td>False</td>\n",
       "    </tr>\n",
       "    <tr>\n",
       "      <th>24</th>\n",
       "      <td>@pqben42 No that should be left up to the stat...</td>\n",
       "      <td>1432855475935141893</td>\n",
       "      <td>4012849515</td>\n",
       "      <td>nan</td>\n",
       "      <td>False</td>\n",
       "    </tr>\n",
       "    <tr>\n",
       "      <th>33</th>\n",
       "      <td>i’m glad to see folks using their platforms to...</td>\n",
       "      <td>1432855417663725581</td>\n",
       "      <td>1134538801680977920</td>\n",
       "      <td>nan</td>\n",
       "      <td>False</td>\n",
       "    </tr>\n",
       "    <tr>\n",
       "      <th>...</th>\n",
       "      <td>...</td>\n",
       "      <td>...</td>\n",
       "      <td>...</td>\n",
       "      <td>...</td>\n",
       "      <td>...</td>\n",
       "    </tr>\n",
       "    <tr>\n",
       "      <th>245</th>\n",
       "      <td>WTG Texas!!!  Thank you for protecting the mos...</td>\n",
       "      <td>1433218967619973125</td>\n",
       "      <td>905974983213625344</td>\n",
       "      <td>nan</td>\n",
       "      <td>False</td>\n",
       "    </tr>\n",
       "    <tr>\n",
       "      <th>246</th>\n",
       "      <td>@fervoroffaith @The911FalseFlag How exactly do...</td>\n",
       "      <td>1433218960376274944</td>\n",
       "      <td>261957615</td>\n",
       "      <td>1.3935913934408335e+18</td>\n",
       "      <td>False</td>\n",
       "    </tr>\n",
       "    <tr>\n",
       "      <th>247</th>\n",
       "      <td>Soooooooo…… #ProLife bigots, you’re ready to a...</td>\n",
       "      <td>1433218808416776195</td>\n",
       "      <td>389708024</td>\n",
       "      <td>nan</td>\n",
       "      <td>False</td>\n",
       "    </tr>\n",
       "    <tr>\n",
       "      <th>248</th>\n",
       "      <td>@SAlNTBUTCHER Can't be prolife if I wish I was...</td>\n",
       "      <td>1433218773792788480</td>\n",
       "      <td>1263369948543488003</td>\n",
       "      <td>1296305246.0</td>\n",
       "      <td>False</td>\n",
       "    </tr>\n",
       "    <tr>\n",
       "      <th>249</th>\n",
       "      <td>Hey pro life crowd 10 weeks is still Regeneron...</td>\n",
       "      <td>1433218622969761797</td>\n",
       "      <td>1083755620552110085</td>\n",
       "      <td>nan</td>\n",
       "      <td>False</td>\n",
       "    </tr>\n",
       "  </tbody>\n",
       "</table>\n",
       "<p>23837 rows × 5 columns</p>\n",
       "</div>"
      ],
      "text/plain": [
       "                                                  text                   id  \\\n",
       "7    @pltxknower @Estries1 @anarcho_parm Oh no for ...  1432855547187978241   \n",
       "19   A Guide on How to Get Abortion Pills | Plan C ...  1432855498873839621   \n",
       "23   WTF!!!  Abbott and male Republicans:  MINE, AN...  1432855481127739392   \n",
       "24   @pqben42 No that should be left up to the stat...  1432855475935141893   \n",
       "33   i’m glad to see folks using their platforms to...  1432855417663725581   \n",
       "..                                                 ...                  ...   \n",
       "245  WTG Texas!!!  Thank you for protecting the mos...  1433218967619973125   \n",
       "246  @fervoroffaith @The911FalseFlag How exactly do...  1433218960376274944   \n",
       "247  Soooooooo…… #ProLife bigots, you’re ready to a...  1433218808416776195   \n",
       "248  @SAlNTBUTCHER Can't be prolife if I wish I was...  1433218773792788480   \n",
       "249  Hey pro life crowd 10 weeks is still Regeneron...  1433218622969761797   \n",
       "\n",
       "               author_id     in_reply_to_user_id  isRetweet  \n",
       "7             2822594617                     nan      False  \n",
       "19             153642560                     nan      False  \n",
       "23            3449791700                     nan      False  \n",
       "24            4012849515                     nan      False  \n",
       "33   1134538801680977920                     nan      False  \n",
       "..                   ...                     ...        ...  \n",
       "245   905974983213625344                     nan      False  \n",
       "246            261957615  1.3935913934408335e+18      False  \n",
       "247            389708024                     nan      False  \n",
       "248  1263369948543488003            1296305246.0      False  \n",
       "249  1083755620552110085                     nan      False  \n",
       "\n",
       "[23837 rows x 5 columns]"
      ]
     },
     "execution_count": 27,
     "metadata": {},
     "output_type": "execute_result"
    }
   ],
   "source": [
    "prochoice_output"
   ]
  },
  {
   "cell_type": "markdown",
   "id": "cdffc489",
   "metadata": {},
   "source": [
    "### Discard duplicates"
   ]
  },
  {
   "cell_type": "code",
   "execution_count": 28,
   "id": "3cacb14b",
   "metadata": {},
   "outputs": [],
   "source": [
    "prochoice_output = prochoice_output.drop_duplicates(['id'])"
   ]
  },
  {
   "cell_type": "code",
   "execution_count": 29,
   "id": "9dbaa5e0",
   "metadata": {},
   "outputs": [
    {
     "data": {
      "text/html": [
       "<div>\n",
       "<style scoped>\n",
       "    .dataframe tbody tr th:only-of-type {\n",
       "        vertical-align: middle;\n",
       "    }\n",
       "\n",
       "    .dataframe tbody tr th {\n",
       "        vertical-align: top;\n",
       "    }\n",
       "\n",
       "    .dataframe thead th {\n",
       "        text-align: right;\n",
       "    }\n",
       "</style>\n",
       "<table border=\"1\" class=\"dataframe\">\n",
       "  <thead>\n",
       "    <tr style=\"text-align: right;\">\n",
       "      <th></th>\n",
       "      <th>text</th>\n",
       "      <th>id</th>\n",
       "      <th>author_id</th>\n",
       "      <th>in_reply_to_user_id</th>\n",
       "      <th>isRetweet</th>\n",
       "    </tr>\n",
       "  </thead>\n",
       "  <tbody>\n",
       "    <tr>\n",
       "      <th>7</th>\n",
       "      <td>@pltxknower @Estries1 @anarcho_parm Oh no for ...</td>\n",
       "      <td>1432855547187978241</td>\n",
       "      <td>2822594617</td>\n",
       "      <td>nan</td>\n",
       "      <td>False</td>\n",
       "    </tr>\n",
       "    <tr>\n",
       "      <th>19</th>\n",
       "      <td>A Guide on How to Get Abortion Pills | Plan C ...</td>\n",
       "      <td>1432855498873839621</td>\n",
       "      <td>153642560</td>\n",
       "      <td>nan</td>\n",
       "      <td>False</td>\n",
       "    </tr>\n",
       "    <tr>\n",
       "      <th>23</th>\n",
       "      <td>WTF!!!  Abbott and male Republicans:  MINE, AN...</td>\n",
       "      <td>1432855481127739392</td>\n",
       "      <td>3449791700</td>\n",
       "      <td>nan</td>\n",
       "      <td>False</td>\n",
       "    </tr>\n",
       "    <tr>\n",
       "      <th>24</th>\n",
       "      <td>@pqben42 No that should be left up to the stat...</td>\n",
       "      <td>1432855475935141893</td>\n",
       "      <td>4012849515</td>\n",
       "      <td>nan</td>\n",
       "      <td>False</td>\n",
       "    </tr>\n",
       "    <tr>\n",
       "      <th>33</th>\n",
       "      <td>i’m glad to see folks using their platforms to...</td>\n",
       "      <td>1432855417663725581</td>\n",
       "      <td>1134538801680977920</td>\n",
       "      <td>nan</td>\n",
       "      <td>False</td>\n",
       "    </tr>\n",
       "    <tr>\n",
       "      <th>...</th>\n",
       "      <td>...</td>\n",
       "      <td>...</td>\n",
       "      <td>...</td>\n",
       "      <td>...</td>\n",
       "      <td>...</td>\n",
       "    </tr>\n",
       "    <tr>\n",
       "      <th>245</th>\n",
       "      <td>WTG Texas!!!  Thank you for protecting the mos...</td>\n",
       "      <td>1433218967619973125</td>\n",
       "      <td>905974983213625344</td>\n",
       "      <td>nan</td>\n",
       "      <td>False</td>\n",
       "    </tr>\n",
       "    <tr>\n",
       "      <th>246</th>\n",
       "      <td>@fervoroffaith @The911FalseFlag How exactly do...</td>\n",
       "      <td>1433218960376274944</td>\n",
       "      <td>261957615</td>\n",
       "      <td>1.3935913934408335e+18</td>\n",
       "      <td>False</td>\n",
       "    </tr>\n",
       "    <tr>\n",
       "      <th>247</th>\n",
       "      <td>Soooooooo…… #ProLife bigots, you’re ready to a...</td>\n",
       "      <td>1433218808416776195</td>\n",
       "      <td>389708024</td>\n",
       "      <td>nan</td>\n",
       "      <td>False</td>\n",
       "    </tr>\n",
       "    <tr>\n",
       "      <th>248</th>\n",
       "      <td>@SAlNTBUTCHER Can't be prolife if I wish I was...</td>\n",
       "      <td>1433218773792788480</td>\n",
       "      <td>1263369948543488003</td>\n",
       "      <td>1296305246.0</td>\n",
       "      <td>False</td>\n",
       "    </tr>\n",
       "    <tr>\n",
       "      <th>249</th>\n",
       "      <td>Hey pro life crowd 10 weeks is still Regeneron...</td>\n",
       "      <td>1433218622969761797</td>\n",
       "      <td>1083755620552110085</td>\n",
       "      <td>nan</td>\n",
       "      <td>False</td>\n",
       "    </tr>\n",
       "  </tbody>\n",
       "</table>\n",
       "<p>23684 rows × 5 columns</p>\n",
       "</div>"
      ],
      "text/plain": [
       "                                                  text                   id  \\\n",
       "7    @pltxknower @Estries1 @anarcho_parm Oh no for ...  1432855547187978241   \n",
       "19   A Guide on How to Get Abortion Pills | Plan C ...  1432855498873839621   \n",
       "23   WTF!!!  Abbott and male Republicans:  MINE, AN...  1432855481127739392   \n",
       "24   @pqben42 No that should be left up to the stat...  1432855475935141893   \n",
       "33   i’m glad to see folks using their platforms to...  1432855417663725581   \n",
       "..                                                 ...                  ...   \n",
       "245  WTG Texas!!!  Thank you for protecting the mos...  1433218967619973125   \n",
       "246  @fervoroffaith @The911FalseFlag How exactly do...  1433218960376274944   \n",
       "247  Soooooooo…… #ProLife bigots, you’re ready to a...  1433218808416776195   \n",
       "248  @SAlNTBUTCHER Can't be prolife if I wish I was...  1433218773792788480   \n",
       "249  Hey pro life crowd 10 weeks is still Regeneron...  1433218622969761797   \n",
       "\n",
       "               author_id     in_reply_to_user_id  isRetweet  \n",
       "7             2822594617                     nan      False  \n",
       "19             153642560                     nan      False  \n",
       "23            3449791700                     nan      False  \n",
       "24            4012849515                     nan      False  \n",
       "33   1134538801680977920                     nan      False  \n",
       "..                   ...                     ...        ...  \n",
       "245   905974983213625344                     nan      False  \n",
       "246            261957615  1.3935913934408335e+18      False  \n",
       "247            389708024                     nan      False  \n",
       "248  1263369948543488003            1296305246.0      False  \n",
       "249  1083755620552110085                     nan      False  \n",
       "\n",
       "[23684 rows x 5 columns]"
      ]
     },
     "execution_count": 29,
     "metadata": {},
     "output_type": "execute_result"
    }
   ],
   "source": [
    "prochoice_output"
   ]
  },
  {
   "cell_type": "markdown",
   "id": "dbc0a565",
   "metadata": {},
   "source": [
    "### Save output"
   ]
  },
  {
   "cell_type": "code",
   "execution_count": 33,
   "id": "d55eb4b3",
   "metadata": {},
   "outputs": [
    {
     "name": "stderr",
     "output_type": "stream",
     "text": [
      "C:\\Users\\abhij\\anaconda3\\lib\\site-packages\\pandas\\core\\frame.py:4308: SettingWithCopyWarning: \n",
      "A value is trying to be set on a copy of a slice from a DataFrame\n",
      "\n",
      "See the caveats in the documentation: https://pandas.pydata.org/pandas-docs/stable/user_guide/indexing.html#returning-a-view-versus-a-copy\n",
      "  return super().drop(\n",
      "<ipython-input-33-406e761d5a5d>:2: SettingWithCopyWarning: \n",
      "A value is trying to be set on a copy of a slice from a DataFrame.\n",
      "Try using .loc[row_indexer,col_indexer] = value instead\n",
      "\n",
      "See the caveats in the documentation: https://pandas.pydata.org/pandas-docs/stable/user_guide/indexing.html#returning-a-view-versus-a-copy\n",
      "  prochoice_output['Class'] = 1\n"
     ]
    }
   ],
   "source": [
    "prochoice_output.drop(['isRetweet'],inplace=True,axis=1)\n",
    "prochoice_output['Class'] = 1\n",
    "prochoice_output.to_csv('concatenatedAbortion.csv', index=False)"
   ]
  },
  {
   "cell_type": "code",
   "execution_count": 34,
   "id": "a9b81848",
   "metadata": {},
   "outputs": [
    {
     "name": "stdout",
     "output_type": "stream",
     "text": [
      "(27186, 5)\n"
     ]
    }
   ],
   "source": [
    "fullOutput = pd.concat([pd.read_csv('concatenatedAbortion.csv'), pd.read_csv('concatenatedProlife.csv')])\n",
    "fullOutput.drop_duplicates(['id'], inplace=True)\n",
    "print(fullOutput.shape)\n",
    "fullOutput.to_csv('concatenatedAll.csv', index=False)"
   ]
  },
  {
   "cell_type": "code",
   "execution_count": 35,
   "id": "4fdcb838",
   "metadata": {},
   "outputs": [],
   "source": [
    "temp = pd.read_csv('concatenatedAll.csv')\n",
    "temp1 = pd.read_csv('concatenatedProlife_new.csv')\n",
    "temp2 = pd.concat([temp,temp1])"
   ]
  },
  {
   "cell_type": "code",
   "execution_count": 38,
   "id": "6a292e66",
   "metadata": {},
   "outputs": [],
   "source": [
    "temp3 = temp2.drop_duplicates(['id'])"
   ]
  },
  {
   "cell_type": "code",
   "execution_count": 40,
   "id": "64c65ede",
   "metadata": {},
   "outputs": [],
   "source": [
    "temp3.to_csv('concatenatedAll.csv',index=False)"
   ]
  }
 ],
 "metadata": {
  "kernelspec": {
   "display_name": "Python 3",
   "language": "python",
   "name": "python3"
  },
  "language_info": {
   "codemirror_mode": {
    "name": "ipython",
    "version": 3
   },
   "file_extension": ".py",
   "mimetype": "text/x-python",
   "name": "python",
   "nbconvert_exporter": "python",
   "pygments_lexer": "ipython3",
   "version": "3.8.8"
  }
 },
 "nbformat": 4,
 "nbformat_minor": 5
}
