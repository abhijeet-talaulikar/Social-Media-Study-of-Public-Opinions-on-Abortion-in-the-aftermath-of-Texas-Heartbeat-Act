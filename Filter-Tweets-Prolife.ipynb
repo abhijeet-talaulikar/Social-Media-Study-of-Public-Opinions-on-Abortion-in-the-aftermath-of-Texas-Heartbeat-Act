{
 "cells": [
  {
   "cell_type": "code",
   "execution_count": null,
   "id": "ec6a99f5",
   "metadata": {},
   "outputs": [],
   "source": [
    "import numpy as np\n",
    "import pandas as pd\n",
    "import os\n",
    "import glob"
   ]
  },
  {
   "cell_type": "markdown",
   "id": "ae84fcd5",
   "metadata": {},
   "source": [
    "### Concatenate"
   ]
  },
  {
   "cell_type": "code",
   "execution_count": null,
   "id": "36057799",
   "metadata": {},
   "outputs": [],
   "source": [
    "def concatCSV(directoryPaths):\n",
    "    outputs = []\n",
    "    for d in directoryPaths:\n",
    "        all_filenames = [i for i in glob.glob(f\"{d}/*.csv\")]\n",
    "        combined_csv = pd.concat([pd.read_csv(f) for f in all_filenames ]).astype(str)\n",
    "        outputs.append(combined_csv)\n",
    "    \n",
    "    return pd.concat(outputs)"
   ]
  },
  {
   "cell_type": "code",
   "execution_count": null,
   "id": "86a98b56",
   "metadata": {},
   "outputs": [],
   "source": [
    "def isRetweet(text):\n",
    "    return text.startswith('RT ')"
   ]
  },
  {
   "cell_type": "code",
   "execution_count": null,
   "id": "f59a8f03",
   "metadata": {},
   "outputs": [],
   "source": [
    "#path_31Aug = \"Data_31Aug/term = prolife\"\n",
    "#path_1Sep = \"Data_1Sep/prolife\"\n",
    "#path_2Sep = \"Data_2Sep/prolife\"\n",
    "\n",
    "path_3Sep = \"Data_3Sep\"\n",
    "path_4Sep = \"Data_4Sep/prolife\"\n",
    "path_5Sep = \"Data_5Sep\"\n",
    "path_6Sep = \"Data_6Sep/prolife\""
   ]
  },
  {
   "cell_type": "code",
   "execution_count": null,
   "id": "297b4999",
   "metadata": {},
   "outputs": [],
   "source": [
    "prolife_output = concatCSV([path_3Sep,path_4Sep,path_5Sep,path_6Sep])"
   ]
  },
  {
   "cell_type": "markdown",
   "id": "64504766",
   "metadata": {},
   "source": [
    "### Discard retweets"
   ]
  },
  {
   "cell_type": "code",
   "execution_count": null,
   "id": "50b9f4f8",
   "metadata": {},
   "outputs": [],
   "source": [
    "prolife_output[\"isRetweet\"] = prolife_output.text.apply(isRetweet)"
   ]
  },
  {
   "cell_type": "code",
   "execution_count": null,
   "id": "2eaf7f18",
   "metadata": {},
   "outputs": [],
   "source": [
    "prolife_output = prolife_output[prolife_output.isRetweet == False]"
   ]
  },
  {
   "cell_type": "code",
   "execution_count": null,
   "id": "041ab027",
   "metadata": {},
   "outputs": [],
   "source": [
    "prolife_output"
   ]
  },
  {
   "cell_type": "markdown",
   "id": "040a5434",
   "metadata": {},
   "source": [
    "### Discard duplicates"
   ]
  },
  {
   "cell_type": "code",
   "execution_count": null,
   "id": "ba2204df",
   "metadata": {},
   "outputs": [],
   "source": [
    "prolife_output = prolife_output.drop_duplicates(['id'])"
   ]
  },
  {
   "cell_type": "code",
   "execution_count": null,
   "id": "e59bdfa3",
   "metadata": {},
   "outputs": [],
   "source": [
    "prolife_output"
   ]
  },
  {
   "cell_type": "markdown",
   "id": "674efd61",
   "metadata": {},
   "source": [
    "### Save output"
   ]
  },
  {
   "cell_type": "code",
   "execution_count": null,
   "id": "a6008fa3",
   "metadata": {},
   "outputs": [],
   "source": [
    "prolife_output.drop(['isRetweet'],inplace=True,axis=1)\n",
    "prolife_output['Class'] = 0\n",
    "prolife_output.to_csv('concatenatedProlife_new.csv', index=False)"
   ]
  }
 ],
 "metadata": {
  "kernelspec": {
   "display_name": "Python 3 (ipykernel)",
   "language": "python",
   "name": "python3"
  },
  "language_info": {
   "codemirror_mode": {
    "name": "ipython",
    "version": 3
   },
   "file_extension": ".py",
   "mimetype": "text/x-python",
   "name": "python",
   "nbconvert_exporter": "python",
   "pygments_lexer": "ipython3",
   "version": "3.9.7"
  }
 },
 "nbformat": 4,
 "nbformat_minor": 5
}
