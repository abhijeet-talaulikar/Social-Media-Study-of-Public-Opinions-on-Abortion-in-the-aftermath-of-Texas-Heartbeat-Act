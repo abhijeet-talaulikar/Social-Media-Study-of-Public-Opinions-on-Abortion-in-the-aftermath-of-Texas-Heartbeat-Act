{
 "cells": [
  {
   "cell_type": "code",
   "execution_count": null,
   "id": "80254d0a",
   "metadata": {},
   "outputs": [],
   "source": [
    "import numpy as np\n",
    "import pandas as pd\n",
    "import requests\n",
    "import time\n",
    "import os\n",
    "import re\n",
    "import html\n",
    "import ast\n",
    "\n",
    "import jsonlines\n",
    "\n",
    "import wand.image\n",
    "\n",
    "import cv2 as cv\n",
    "import json"
   ]
  },
  {
   "cell_type": "markdown",
   "id": "7b2cd398",
   "metadata": {},
   "source": [
    "### Read data"
   ]
  },
  {
   "cell_type": "code",
   "execution_count": null,
   "id": "81408e9d",
   "metadata": {},
   "outputs": [],
   "source": [
    "data = pd.read_csv('concatenatedProlife_new.csv').astype(str)"
   ]
  },
  {
   "cell_type": "markdown",
   "id": "d983cae1",
   "metadata": {},
   "source": [
    "### Function to make GET call"
   ]
  },
  {
   "cell_type": "code",
   "execution_count": null,
   "id": "1f862c5c",
   "metadata": {},
   "outputs": [],
   "source": [
    "def getUserData(ids):\n",
    "    headers = {'Authorization':'Bearer '}\n",
    "    url = \"https://api.twitter.com/2/users\"\n",
    "    params = {\n",
    "        'ids':ids,\n",
    "        'user.fields':'created_at,description,entities,id,location,name,pinned_tweet_id,profile_image_url,protected,url,username,verified,withheld',\n",
    "        'tweet.fields':'attachments,author_id,conversation_id,created_at,entities,geo,id,in_reply_to_user_id,lang'\n",
    "    }\n",
    "    \n",
    "    r = requests.get(url=url, params=params, headers=headers)\n",
    "    \n",
    "    return r.json()"
   ]
  },
  {
   "cell_type": "code",
   "execution_count": null,
   "id": "da1ae9b5",
   "metadata": {},
   "outputs": [],
   "source": []
  },
  {
   "cell_type": "code",
   "execution_count": null,
   "id": "bbdd9bcc",
   "metadata": {},
   "outputs": [],
   "source": [
    "data.shape[0]"
   ]
  },
  {
   "cell_type": "markdown",
   "id": "1b661e41",
   "metadata": {},
   "source": [
    "### Make calls on a hopping window of 100"
   ]
  },
  {
   "cell_type": "code",
   "execution_count": null,
   "id": "d46e6945",
   "metadata": {
    "scrolled": true
   },
   "outputs": [],
   "source": [
    "start = 0\n",
    "collection = []\n",
    "callCount = 0\n",
    "\n",
    "while start < data.shape[0]:\n",
    "    end = start + 100\n",
    "    ids = ','.join(data.iloc[start:end]['author_id'])\n",
    "    collection.extend(getUserData(ids)['data'])\n",
    "    start = end\n",
    "    \n",
    "    callCount += 1\n",
    "    if callCount % 49 == 0:\n",
    "        print(f\"Sleeping for few minutes, {callCount} calls made.\")\n",
    "        time.sleep(1000)\n",
    "\n",
    "user_data = pd.DataFrame(collection)"
   ]
  },
  {
   "cell_type": "code",
   "execution_count": null,
   "id": "5cc6d3f1",
   "metadata": {},
   "outputs": [],
   "source": [
    "temp = pd.read_csv('ConcatenatedUsers.csv')\n",
    "temp2 = pd.concat([temp,user_data])"
   ]
  },
  {
   "cell_type": "code",
   "execution_count": null,
   "id": "3575b6aa",
   "metadata": {},
   "outputs": [],
   "source": [
    "temp2.drop_duplicates(['id']).to_csv('ConcatenatedUsers.csv',index=False)"
   ]
  },
  {
   "cell_type": "code",
   "execution_count": null,
   "id": "12ddc53c",
   "metadata": {},
   "outputs": [],
   "source": [
    "#user_data.to_csv('ConcatenatedUsers.csv',index=False)"
   ]
  },
  {
   "cell_type": "code",
   "execution_count": null,
   "id": "ad57678b",
   "metadata": {},
   "outputs": [],
   "source": []
  },
  {
   "cell_type": "markdown",
   "id": "732900e1",
   "metadata": {},
   "source": [
    "### Get profile images"
   ]
  },
  {
   "cell_type": "code",
   "execution_count": null,
   "id": "db541fc8",
   "metadata": {},
   "outputs": [],
   "source": [
    "user_data = pd.read_csv('ConcatenatedUsers.csv')"
   ]
  },
  {
   "cell_type": "code",
   "execution_count": null,
   "id": "2e01692e",
   "metadata": {
    "scrolled": true
   },
   "outputs": [],
   "source": [
    "calls = 19100\n",
    "\n",
    "for index, user in user_data.iloc[19100:].iterrows():\n",
    "    url = str(user['profile_image_url'])\n",
    "    userid = str(user['id'])\n",
    "    \n",
    "    try:\n",
    "        img_data = requests.get(url).content\n",
    "    except:\n",
    "        continue\n",
    "    \n",
    "    with open(f'profile_images/user_{userid}.jpg', 'wb') as handler:\n",
    "        handler.write(img_data)\n",
    "    \n",
    "    calls += 1\n",
    "    if (calls % 100 == 0):\n",
    "        print(f'Calls made = {calls}')"
   ]
  },
  {
   "cell_type": "code",
   "execution_count": null,
   "id": "cfb68e47",
   "metadata": {},
   "outputs": [],
   "source": []
  },
  {
   "cell_type": "markdown",
   "id": "a265a99f",
   "metadata": {},
   "source": [
    "### Create JSON Lines file"
   ]
  },
  {
   "cell_type": "code",
   "execution_count": null,
   "id": "73d6d3c3",
   "metadata": {},
   "outputs": [],
   "source": [
    "user_data.head()"
   ]
  },
  {
   "cell_type": "code",
   "execution_count": null,
   "id": "6c92fa7b",
   "metadata": {},
   "outputs": [],
   "source": [
    "json_dicts = []\n",
    "\n",
    "for _, row in user_data.iterrows():\n",
    "    \n",
    "    # Preprocess description\n",
    "    description = str(row['description'])\n",
    "    description = re.sub(r\"(?:\\@|https?\\://)\\S+\", \"\", description)\n",
    "    description = html.unescape(description)\n",
    "    description = re.sub('[^A-Za-z ]+', '', description)\n",
    "    description = description.strip().lower()\n",
    "    description = ' '.join(description.split())\n",
    "    \n",
    "    # Preprocess name\n",
    "    name = str(row['name'])\n",
    "    name = re.sub(r\"(?:\\@|https?\\://)\\S+\", \"\", name)\n",
    "    name = html.unescape(name)\n",
    "    name = re.sub('[^A-Za-z ]+', '', name)\n",
    "    name = name.strip().lower()\n",
    "    name = ' '.join(name.split())\n",
    "    \n",
    "    # Preprocess username\n",
    "    username = str(row['username'])\n",
    "    username = re.sub(r\"(?:\\@|https?\\://)\\S+\", \"\", username)\n",
    "    username = html.unescape(username)\n",
    "    username = re.sub('[^A-Za-z ]+', '', username)\n",
    "    username = username.strip().lower()\n",
    "    username = ' '.join(username.split())\n",
    "    \n",
    "    \n",
    "    if not os.path.isfile(f'profile_images/user_{row[\"id\"]}.jpg'):\n",
    "        img = '/content/profile_images/missing_image.jpg'\n",
    "    else:\n",
    "        img = f'/content/profile_images/user_{row[\"id\"]}.jpg'\n",
    "    \n",
    "    user_dict = {\n",
    "        \"id\": str(row['id']),\n",
    "        \"name\": name,\n",
    "        \"screen_name\": username,\n",
    "        \"description\": description,\n",
    "        \"lang\": \"en\",\n",
    "        \"img_path\":img\n",
    "    }\n",
    "    \n",
    "    json_dicts.append(user_dict)"
   ]
  },
  {
   "cell_type": "code",
   "execution_count": null,
   "id": "39167a0a",
   "metadata": {},
   "outputs": [],
   "source": []
  },
  {
   "cell_type": "code",
   "execution_count": null,
   "id": "4fb505f4",
   "metadata": {},
   "outputs": [],
   "source": [
    "# with open(\"data.jsonl\", \"w\", encoding=\"utf-8\") as text_file:\n",
    "#     text_file.write(jsonstring)\n",
    "\n",
    "with jsonlines.open('data.jsonl', 'w') as writer:\n",
    "    writer.write_all(json_dicts)"
   ]
  },
  {
   "cell_type": "code",
   "execution_count": null,
   "id": "1d846a7a",
   "metadata": {},
   "outputs": [],
   "source": []
  },
  {
   "cell_type": "markdown",
   "id": "39733b96",
   "metadata": {},
   "source": [
    "### Find grayscale images"
   ]
  },
  {
   "cell_type": "code",
   "execution_count": null,
   "id": "652049f5",
   "metadata": {},
   "outputs": [],
   "source": [
    "collect_graysc = []\n",
    "\n",
    "for _, row in user_data.iterrows():\n",
    "    url = f'profile_images_orig/user_{row[\"id\"]}.jpg'\n",
    "    new_url = f'profile_images/user_{row[\"id\"]}.jpg'\n",
    "    if os.path.isfile(new_url):\n",
    "        img = cv.imread(new_url)\n",
    "        w,h,_ = img.shape\n",
    "        flag = True\n",
    "        for i in range(w):\n",
    "            \n",
    "            if not flag:\n",
    "                break\n",
    "            \n",
    "            for j in range(h):\n",
    "                r, g, b = img[i][j]\n",
    "                if r == g == b: \n",
    "                    pass\n",
    "                else:\n",
    "                    flag = False\n",
    "                    break\n",
    "        \n",
    "        if flag:\n",
    "            print(row['id'])\n",
    "            collect_graysc.append(row[\"id\"])"
   ]
  },
  {
   "cell_type": "code",
   "execution_count": null,
   "id": "e7fc17ca",
   "metadata": {},
   "outputs": [],
   "source": [
    "len(collect_graysc)"
   ]
  },
  {
   "cell_type": "markdown",
   "id": "a0e7673e",
   "metadata": {},
   "source": [
    "### Remove alpha channel"
   ]
  },
  {
   "cell_type": "code",
   "execution_count": null,
   "id": "f0714ab1",
   "metadata": {},
   "outputs": [],
   "source": [
    "def hasAlpha(image_path):\n",
    "    with wand.image.Image(filename=image_path) as img:\n",
    "        alpha = img.alpha_channel\n",
    "        return alpha"
   ]
  },
  {
   "cell_type": "code",
   "execution_count": null,
   "id": "1cf660ef",
   "metadata": {},
   "outputs": [],
   "source": [
    "def removeAlpha(image_path, new_image_path):\n",
    "    with wand.image.Image(filename=image_path) as img:\n",
    "        img.alpha_channel = 'remove' \n",
    "        img.background_color = wand.image.Color('white')\n",
    "        img.save(filename=new_image_path)"
   ]
  },
  {
   "cell_type": "code",
   "execution_count": null,
   "id": "ad049120",
   "metadata": {},
   "outputs": [],
   "source": [
    "for _, row in user_data.iterrows():\n",
    "    url = f'profile_images_orig/user_{row[\"id\"]}.jpg'\n",
    "    new_url = f'profile_images/user_{row[\"id\"]}.jpg'\n",
    "    if os.path.isfile(url):\n",
    "        try:\n",
    "            if row['id'] not in collect_graysc:\n",
    "                removeAlpha(url, new_url)\n",
    "        except:\n",
    "            pass"
   ]
  },
  {
   "cell_type": "markdown",
   "id": "0dfa58eb",
   "metadata": {},
   "source": [
    "### Find image size mismatch"
   ]
  },
  {
   "cell_type": "code",
   "execution_count": null,
   "id": "aa73c68a",
   "metadata": {},
   "outputs": [],
   "source": [
    "for _, row in user_data.iterrows():\n",
    "    new_url = f'profile_images/user_{row[\"id\"]}.jpg'\n",
    "    if os.path.isfile(new_url):\n",
    "        img = cv.imread(new_url)\n",
    "        w,h,_ = img.shape\n",
    "        if w != 48 or h != 48:\n",
    "            print(row['id'])"
   ]
  },
  {
   "cell_type": "code",
   "execution_count": null,
   "id": "ac2fa7be",
   "metadata": {},
   "outputs": [],
   "source": []
  },
  {
   "cell_type": "markdown",
   "id": "e29fdd1f",
   "metadata": {},
   "source": [
    "### Read M3 outputs"
   ]
  },
  {
   "cell_type": "code",
   "execution_count": null,
   "id": "ee588231",
   "metadata": {},
   "outputs": [],
   "source": [
    "f = open('m3_data.json')\n",
    "m3_data = json.load(f)"
   ]
  },
  {
   "cell_type": "code",
   "execution_count": null,
   "id": "befc7202",
   "metadata": {},
   "outputs": [],
   "source": [
    "m3_data = pd.DataFrame(m3_data).transpose().reset_index().rename(columns={'index':'id'})\n",
    "m3_data.head()"
   ]
  },
  {
   "cell_type": "code",
   "execution_count": null,
   "id": "4e7dbf1a",
   "metadata": {},
   "outputs": [],
   "source": [
    "def getMostProbableKey(x):\n",
    "    maxVal = 0\n",
    "    maxKey = None\n",
    "    for key in x.keys():\n",
    "        if x[key] > maxVal:\n",
    "            maxVal = x[key]\n",
    "            maxKey = key\n",
    "    return maxKey\n",
    "\n",
    "m3_data['gender'] = m3_data['gender'].apply(getMostProbableKey)\n",
    "m3_data['age'] = m3_data['age'].apply(getMostProbableKey)\n",
    "m3_data['org'] = m3_data['org'].apply(getMostProbableKey)\n",
    "m3_dat"
   ]
  },
  {
   "cell_type": "code",
   "execution_count": null,
   "id": "8899bb71",
   "metadata": {},
   "outputs": [],
   "source": [
    "user_data['id'] = user_data['id'].astype(str)"
   ]
  },
  {
   "cell_type": "code",
   "execution_count": null,
   "id": "bb4d08ef",
   "metadata": {},
   "outputs": [],
   "source": [
    "concatenatedUsers_m3 = pd.merge(user_data,m3_data,on='id')\n",
    "concatenatedUsers_m3.to_csv('ConcatenatedUsers_m3.csv',index=False)"
   ]
  },
  {
   "cell_type": "code",
   "execution_count": null,
   "id": "aa6d9f89",
   "metadata": {},
   "outputs": [],
   "source": []
  },
  {
   "cell_type": "code",
   "execution_count": null,
   "id": "5190cc0b",
   "metadata": {},
   "outputs": [],
   "source": [
    "all_data = pd.read_csv('all_data.csv')\n",
    "all_data['id']=all_data['id'].astype(str)\n",
    "f = open('sentiment.txt','r')\n",
    "sent_collection = ast.literal_eval(f.readlines()[0])"
   ]
  },
  {
   "cell_type": "code",
   "execution_count": null,
   "id": "6ea8f48b",
   "metadata": {},
   "outputs": [],
   "source": [
    "all_data['sentiment']=all_data.id.map(sent_collection)"
   ]
  },
  {
   "cell_type": "code",
   "execution_count": null,
   "id": "2844491b",
   "metadata": {},
   "outputs": [],
   "source": [
    "all_data.to_csv('all_data.csv',index=False)"
   ]
  }
 ],
 "metadata": {
  "kernelspec": {
   "display_name": "Python 3 (ipykernel)",
   "language": "python",
   "name": "python3"
  },
  "language_info": {
   "codemirror_mode": {
    "name": "ipython",
    "version": 3
   },
   "file_extension": ".py",
   "mimetype": "text/x-python",
   "name": "python",
   "nbconvert_exporter": "python",
   "pygments_lexer": "ipython3",
   "version": "3.9.7"
  }
 },
 "nbformat": 4,
 "nbformat_minor": 5
}
