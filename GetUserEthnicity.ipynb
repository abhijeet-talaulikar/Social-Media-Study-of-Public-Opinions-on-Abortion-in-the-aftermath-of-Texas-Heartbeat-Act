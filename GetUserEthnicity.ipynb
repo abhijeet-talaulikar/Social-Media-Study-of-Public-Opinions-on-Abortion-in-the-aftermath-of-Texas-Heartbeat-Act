{
 "cells": [
  {
   "cell_type": "code",
   "execution_count": null,
   "id": "d4c7b21c",
   "metadata": {},
   "outputs": [],
   "source": [
    "import pandas as pd\n",
    "\n",
    "import re\n",
    "import html\n",
    "import os\n",
    "import json\n",
    "import ast\n",
    "\n",
    "from deepface import DeepFace"
   ]
  },
  {
   "cell_type": "markdown",
   "id": "81b99574",
   "metadata": {},
   "source": [
    "### Read user data"
   ]
  },
  {
   "cell_type": "code",
   "execution_count": null,
   "id": "411fd907",
   "metadata": {},
   "outputs": [],
   "source": [
    "user_data = pd.read_csv('ConcatenatedUsers_m3.csv')"
   ]
  },
  {
   "cell_type": "code",
   "execution_count": null,
   "id": "9c59d3ff",
   "metadata": {},
   "outputs": [],
   "source": [
    "user_data.head(10)"
   ]
  },
  {
   "cell_type": "markdown",
   "id": "df517496",
   "metadata": {},
   "source": [
    "### Predict race"
   ]
  },
  {
   "cell_type": "code",
   "execution_count": null,
   "id": "3306efd2",
   "metadata": {},
   "outputs": [],
   "source": [
    "race_collection = {}\n",
    "\n",
    "for _, row in user_data.iterrows():\n",
    "    img = f'profile_images/user_{row[\"id\"]}.jpg'\n",
    "    if os.path.isfile(img):\n",
    "        race_collection[row['id']] = DeepFace.analyze(img_path = img, actions = ['race'], enforce_detection=False)['dominant_race']"
   ]
  },
  {
   "cell_type": "code",
   "execution_count": null,
   "id": "3014ded2",
   "metadata": {},
   "outputs": [],
   "source": [
    "f = open('readme.txt','r')\n",
    "race_collection = ast.literal_eval(f.readlines()[0])"
   ]
  },
  {
   "cell_type": "code",
   "execution_count": null,
   "id": "4db7dc07",
   "metadata": {},
   "outputs": [],
   "source": [
    "user_data['race'] = user_data.id.map(race_collection)"
   ]
  },
  {
   "cell_type": "code",
   "execution_count": null,
   "id": "b270c063",
   "metadata": {},
   "outputs": [],
   "source": [
    "user_data.to_csv('ConcatenatedUsers_m3_eth.csv',index=False)"
   ]
  }
 ],
 "metadata": {
  "kernelspec": {
   "display_name": "Python 3 (ipykernel)",
   "language": "python",
   "name": "python3"
  },
  "language_info": {
   "codemirror_mode": {
    "name": "ipython",
    "version": 3
   },
   "file_extension": ".py",
   "mimetype": "text/x-python",
   "name": "python",
   "nbconvert_exporter": "python",
   "pygments_lexer": "ipython3",
   "version": "3.9.7"
  }
 },
 "nbformat": 4,
 "nbformat_minor": 5
}
