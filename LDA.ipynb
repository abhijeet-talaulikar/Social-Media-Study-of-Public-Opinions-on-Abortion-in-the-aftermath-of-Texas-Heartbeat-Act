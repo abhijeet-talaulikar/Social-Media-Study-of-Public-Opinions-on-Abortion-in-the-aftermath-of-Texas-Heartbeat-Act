{
 "cells": [
  {
   "cell_type": "code",
   "execution_count": null,
   "metadata": {
    "id": "9XTglYDFnQxN"
   },
   "outputs": [],
   "source": [
    "import numpy as np\n",
    "import pandas as pd\n",
    "import matplotlib.pyplot as plt\n",
    "\n",
    "from PIL import Image\n",
    "\n",
    "from gensim.test.utils import common_texts\n",
    "from gensim.corpora.dictionary import Dictionary\n",
    "from gensim import corpora, models, similarities\n",
    "from gensim.models import CoherenceModel\n",
    "\n",
    "from gensim.test.utils import datapath\n",
    "from collections import Counter\n",
    "\n",
    "from wordcloud import WordCloud, STOPWORDS, ImageColorGenerator"
   ]
  },
  {
   "cell_type": "code",
   "execution_count": null,
   "metadata": {
    "id": "XNu1t-VaZqu0"
   },
   "outputs": [],
   "source": [
    "data=pd.read_csv('all_data.csv')"
   ]
  },
  {
   "cell_type": "markdown",
   "metadata": {
    "id": "ztPcoRpLccIY"
   },
   "source": [
    "### Identify most common words"
   ]
  },
  {
   "cell_type": "code",
   "execution_count": null,
   "metadata": {
    "id": "uZwaS9qlcf7b"
   },
   "outputs": [],
   "source": [
    "wordCounts = Counter(' '.join(data['text']).split(' '))"
   ]
  },
  {
   "cell_type": "code",
   "execution_count": null,
   "metadata": {
    "id": "1Iy9XOM-dB7S"
   },
   "outputs": [],
   "source": [
    "commonStopWords = list(list(zip(*wordCounts.most_common(15)))[0])\n",
    "commonStopWords.extend(['afghanistan','pet','petdeals','want','products','shop','lovers'])\n",
    "commonStopWords=set(commonStopWords)"
   ]
  },
  {
   "cell_type": "code",
   "execution_count": null,
   "metadata": {
    "id": "PnJLFV5Y2HIT"
   },
   "outputs": [],
   "source": [
    "def getTopicDist(df,lda, cdict, ntopics, mapping):\n",
    "  tdict = {i:0 for i in range(ntopics)}\n",
    "  total = df.shape[0]\n",
    "  for _,row in df.iterrows():\n",
    "    text=row['text'].split(' ')\n",
    "    bow = cdict.doc2bow(text)\n",
    "    output = list(zip(*lda[bow][0]))\n",
    "    indices = output[0]\n",
    "    probs = output[1]\n",
    "    topic = indices[np.argmax(probs)]\n",
    "    tdict[topic] += 1/total\n",
    "  print(tdict)\n",
    "  for topic in mapping.keys():\n",
    "    print(topic, sum([tdict[i] for i in mapping[topic]])*100)"
   ]
  },
  {
   "cell_type": "markdown",
   "metadata": {
    "id": "SW0gnD7xkXRO"
   },
   "source": [
    "### Opinion - Support"
   ]
  },
  {
   "cell_type": "code",
   "execution_count": null,
   "metadata": {
    "id": "nOv7bGnbaDFa"
   },
   "outputs": [],
   "source": [
    "alltexts1 = list(data[data.opinion=='Support']['text'])\n",
    "alltexts1 = [[w for w in t.split(' ') if w not in commonStopWords] for t in alltexts1]"
   ]
  },
  {
   "cell_type": "code",
   "execution_count": null,
   "metadata": {
    "id": "aJu2axnMDiYB"
   },
   "outputs": [],
   "source": [
    "common_dictionary1 = Dictionary(alltexts1)"
   ]
  },
  {
   "cell_type": "code",
   "execution_count": null,
   "metadata": {
    "id": "mC4l5FYfEBVF"
   },
   "outputs": [],
   "source": [
    "common_corpus1 = [common_dictionary1.doc2bow(text) for text in alltexts1]"
   ]
  },
  {
   "cell_type": "code",
   "execution_count": null,
   "metadata": {
    "id": "Zu5rKgDvD-HT"
   },
   "outputs": [],
   "source": [
    "lda1 = models.LdaMulticore(common_corpus1, id2word=common_dictionary1, num_topics=10, \n",
    "                                       random_state=100,\n",
    "                                       chunksize=100,\n",
    "                                       passes=10,\n",
    "                                       per_word_topics=True)"
   ]
  },
  {
   "cell_type": "code",
   "execution_count": null,
   "metadata": {
    "id": "Pc6HhQIedemM"
   },
   "outputs": [],
   "source": []
  },
  {
   "cell_type": "code",
   "execution_count": null,
   "metadata": {
    "colab": {
     "base_uri": "https://localhost:8080/"
    },
    "id": "g3AmP1wWGVyc",
    "outputId": "1a29429d-7c65-45bd-e710-c39a7f3a0919"
   },
   "outputs": [],
   "source": [
    "lda1.print_topics()"
   ]
  },
  {
   "cell_type": "code",
   "execution_count": null,
   "metadata": {
    "id": "iLOJwBpMlfYB"
   },
   "outputs": [],
   "source": [
    "mapping1={'choice':[0,4], 'unborn':[9,7], 'religion':[5], 'healthcare':[3,8]}"
   ]
  },
  {
   "cell_type": "code",
   "execution_count": null,
   "metadata": {
    "colab": {
     "base_uri": "https://localhost:8080/"
    },
    "id": "S6CitObjbv2y",
    "outputId": "8e6d5122-55db-4e20-fc85-a3e08493726e"
   },
   "outputs": [],
   "source": [
    "coherence_model_lda = CoherenceModel(model=lda1, texts=alltexts1, dictionary=common_dictionary1, coherence='c_v')\n",
    "coherence_lda = coherence_model_lda.get_coherence()\n",
    "print('\\nCoherence Score: ', coherence_lda)"
   ]
  },
  {
   "cell_type": "code",
   "execution_count": null,
   "metadata": {
    "colab": {
     "base_uri": "https://localhost:8080/"
    },
    "id": "SJrl_GAjzTuL",
    "outputId": "b42897f6-e23e-4ec2-da21-06c05b30b93a"
   },
   "outputs": [],
   "source": [
    "df=data[data.opinion=='Support']\n",
    "getTopicDist(df,lda1, common_dictionary1, 10,mapping1)"
   ]
  },
  {
   "cell_type": "markdown",
   "metadata": {
    "id": "Gzu8azGAstze"
   },
   "source": [
    "### Opinion - Against"
   ]
  },
  {
   "cell_type": "code",
   "execution_count": null,
   "metadata": {
    "id": "VZtO6Epmsxh6"
   },
   "outputs": [],
   "source": [
    "alltexts2 = list(data[data.opinion=='Against']['text'])\n",
    "alltexts2 = [[w for w in t.split(' ') if w not in commonStopWords] for t in alltexts2]"
   ]
  },
  {
   "cell_type": "code",
   "execution_count": null,
   "metadata": {
    "id": "Eie_p5e3sybO"
   },
   "outputs": [],
   "source": [
    "common_dictionary2 = Dictionary(alltexts2)"
   ]
  },
  {
   "cell_type": "code",
   "execution_count": null,
   "metadata": {
    "id": "5VEU1a2Jsyul"
   },
   "outputs": [],
   "source": [
    "common_corpus2 = [common_dictionary2.doc2bow(text) for text in alltexts2]"
   ]
  },
  {
   "cell_type": "code",
   "execution_count": null,
   "metadata": {
    "id": "zVFdwCjfszD1"
   },
   "outputs": [],
   "source": [
    "lda2 = models.LdaMulticore(common_corpus2, id2word=common_dictionary2, num_topics=10, \n",
    "                                       random_state=100,\n",
    "                                       chunksize=100,\n",
    "                                       passes=10,\n",
    "                                       per_word_topics=True)"
   ]
  },
  {
   "cell_type": "code",
   "execution_count": null,
   "metadata": {
    "colab": {
     "base_uri": "https://localhost:8080/"
    },
    "id": "h2mV7fZks6ny",
    "outputId": "646f1520-a285-4eb7-843e-bc12d85d585d"
   },
   "outputs": [],
   "source": [
    "lda2.print_topics()"
   ]
  },
  {
   "cell_type": "code",
   "execution_count": null,
   "metadata": {
    "id": "WpVcNPkxpjK5"
   },
   "outputs": [],
   "source": [
    "mapping2={'nationalist':[0,5,2], 'unborn':[9,7], 'religion':[4], 'healthcare':[3,8]}"
   ]
  },
  {
   "cell_type": "code",
   "execution_count": null,
   "metadata": {
    "colab": {
     "base_uri": "https://localhost:8080/"
    },
    "id": "QYIs6-ows8-D",
    "outputId": "eb9b0c78-cfc9-4009-a1b5-f351ed26dc9f"
   },
   "outputs": [],
   "source": [
    "coherence_model_lda = CoherenceModel(model=lda2, texts=alltexts2, dictionary=common_dictionary2, coherence='c_v')\n",
    "coherence_lda = coherence_model_lda.get_coherence()\n",
    "print('\\nCoherence Score: ', coherence_lda)"
   ]
  },
  {
   "cell_type": "code",
   "execution_count": null,
   "metadata": {
    "colab": {
     "base_uri": "https://localhost:8080/"
    },
    "id": "rMDs5pPl5iSh",
    "outputId": "96a10a5b-2455-4386-960c-a606b5318627"
   },
   "outputs": [],
   "source": [
    "df=data[data.opinion=='Against']\n",
    "getTopicDist(df,lda2, common_dictionary2, 10, mapping2)"
   ]
  },
  {
   "cell_type": "markdown",
   "metadata": {
    "id": "HG6jfoATDt90"
   },
   "source": [
    "### What are males talking about?"
   ]
  },
  {
   "cell_type": "code",
   "execution_count": null,
   "metadata": {
    "id": "tF_hujglnhTH"
   },
   "outputs": [],
   "source": [
    "males_1=data[(data.gender=='male') & (data.opinion=='Support')]\n",
    "maletexts_1 = list(males_1['text'])\n",
    "maletexts_1 = (' '.join(maletexts_1)).split(' ')\n",
    "\n",
    "males_0=data[(data.gender=='male') & (data.opinion=='Against')]\n",
    "maletexts_0 = list(males_0['text'])\n",
    "maletexts_0 = (' '.join(maletexts_0)).split(' ')"
   ]
  },
  {
   "cell_type": "code",
   "execution_count": null,
   "metadata": {
    "colab": {
     "base_uri": "https://localhost:8080/"
    },
    "id": "GcaZnukTZEmD",
    "outputId": "ddc161c6-8324-40b6-e35a-3cff256abe5b"
   },
   "outputs": [],
   "source": [
    "#lda1[common_dictionary1.doc2bow(maletexts_1)][0]\n",
    "getTopicDist(males_1,lda1, common_dictionary1, 10, mapping1)"
   ]
  },
  {
   "cell_type": "code",
   "execution_count": null,
   "metadata": {
    "colab": {
     "base_uri": "https://localhost:8080/"
    },
    "id": "Fxg928MKGIoU",
    "outputId": "19a16ca9-4652-4b59-9398-3b172176463d"
   },
   "outputs": [],
   "source": [
    "getTopicDist(males_0,lda2, common_dictionary2, 10, mapping2)"
   ]
  },
  {
   "cell_type": "markdown",
   "metadata": {
    "id": "vXsgYnUeWfeK"
   },
   "source": [
    "### What are females talking about?"
   ]
  },
  {
   "cell_type": "code",
   "execution_count": null,
   "metadata": {
    "id": "ef5DknFySKNb"
   },
   "outputs": [],
   "source": [
    "females_1=data[(data.gender=='female') & (data.opinion=='Support')]\n",
    "femaletexts_1 = list(females_1['text'])\n",
    "femaletexts_1 = (' '.join(femaletexts_1)).split(' ')\n",
    "\n",
    "females_0=data[(data.gender=='female') & (data.opinion=='Against')]\n",
    "femaletexts_0 = list(females_0['text'])\n",
    "femaletexts_0 = (' '.join(femaletexts_0)).split(' ')"
   ]
  },
  {
   "cell_type": "code",
   "execution_count": null,
   "metadata": {
    "colab": {
     "base_uri": "https://localhost:8080/"
    },
    "id": "GOsol7qzWqH_",
    "outputId": "ac60d022-54a7-41c8-eb44-aa3cba40a51f"
   },
   "outputs": [],
   "source": [
    "getTopicDist(females_1,lda1, common_dictionary1, 10, mapping1)"
   ]
  },
  {
   "cell_type": "code",
   "execution_count": null,
   "metadata": {
    "colab": {
     "base_uri": "https://localhost:8080/"
    },
    "id": "YJxYj-dRWtHe",
    "outputId": "a78c8556-4e57-40f1-b558-e3f40a4ed12d"
   },
   "outputs": [],
   "source": [
    "getTopicDist(females_0,lda2, common_dictionary2, 10, mapping2)"
   ]
  },
  {
   "cell_type": "markdown",
   "metadata": {
    "id": "ubEK68WOM846"
   },
   "source": [
    "### What are whites talking about?"
   ]
  },
  {
   "cell_type": "code",
   "execution_count": null,
   "metadata": {
    "id": "jtCcdPIYM7-A"
   },
   "outputs": [],
   "source": [
    "white_1=data[(data.race=='white') & (data.opinion=='Support')]\n",
    "whitetexts_1 = list(white_1['text'])\n",
    "whitetexts_1 = (' '.join(whitetexts_1)).split(' ')\n",
    "\n",
    "white_0=data[(data.race=='white') & (data.opinion=='Against')]\n",
    "whitetexts_0 = list(white_0['text'])\n",
    "whitetexts_0 = (' '.join(whitetexts_0)).split(' ')"
   ]
  },
  {
   "cell_type": "code",
   "execution_count": null,
   "metadata": {
    "colab": {
     "base_uri": "https://localhost:8080/"
    },
    "id": "XfYyMFWmNaWD",
    "outputId": "4fe68697-d359-44b1-8ee2-def69b86ab3b"
   },
   "outputs": [],
   "source": [
    "getTopicDist(white_1,lda1, common_dictionary1, 10, mapping1)"
   ]
  },
  {
   "cell_type": "code",
   "execution_count": null,
   "metadata": {
    "colab": {
     "base_uri": "https://localhost:8080/"
    },
    "id": "pQ1XCpA1SCMA",
    "outputId": "c912569a-dcdd-48ef-9d33-9ccb327d0e59"
   },
   "outputs": [],
   "source": [
    "getTopicDist(white_0,lda2, common_dictionary2, 10, mapping2)"
   ]
  },
  {
   "cell_type": "markdown",
   "metadata": {
    "id": "xfUgFRJqrT57"
   },
   "source": [
    "### What are non-whites talking about?"
   ]
  },
  {
   "cell_type": "code",
   "execution_count": null,
   "metadata": {
    "id": "AXm-MEPwqmO2"
   },
   "outputs": [],
   "source": [
    "nonwhite_1=data[(data.race!='white') & (data.opinion=='Support')]\n",
    "nonwhitetexts_1 = list(nonwhite_1['text'])\n",
    "nonwhitetexts_1 = (' '.join(nonwhitetexts_1)).split(' ')\n",
    "\n",
    "nonwhite_0=data[(data.race!='white') & (data.opinion=='Against')]\n",
    "nonwhitetexts_0 = list(nonwhite_0['text'])\n",
    "nonwhitetexts_0 = (' '.join(nonwhitetexts_0)).split(' ')"
   ]
  },
  {
   "cell_type": "code",
   "execution_count": null,
   "metadata": {
    "colab": {
     "base_uri": "https://localhost:8080/"
    },
    "id": "4JHGSq_jqoZ6",
    "outputId": "e1f4d54d-fb96-40bf-8e63-a2445210847e"
   },
   "outputs": [],
   "source": [
    "getTopicDist(nonwhite_1,lda1, common_dictionary1, 10, mapping1)"
   ]
  },
  {
   "cell_type": "code",
   "execution_count": null,
   "metadata": {
    "colab": {
     "base_uri": "https://localhost:8080/"
    },
    "id": "YmdTF29zqozz",
    "outputId": "c000d220-c664-4590-c54e-9171160e0957"
   },
   "outputs": [],
   "source": [
    "getTopicDist(nonwhite_0,lda2, common_dictionary2, 10, mapping2)"
   ]
  },
  {
   "cell_type": "markdown",
   "metadata": {
    "id": "--tshJgT9fFE"
   },
   "source": [
    "### What are adults talking about?"
   ]
  },
  {
   "cell_type": "code",
   "execution_count": null,
   "metadata": {
    "id": "wCleZNUWr4j5"
   },
   "outputs": [],
   "source": [
    "adult_1=data[(data.age=='>=40') & (data.opinion=='Support')]\n",
    "adulttexts_1 = list(adult_1['text'])\n",
    "adulttexts_1 = (' '.join(adulttexts_1)).split(' ')\n",
    "\n",
    "adult_0=data[(data.age=='>=40') & (data.opinion=='Against')]\n",
    "adulttexts_0 = list(adult_0['text'])\n",
    "adulttexts_0 = (' '.join(adulttexts_0)).split(' ')"
   ]
  },
  {
   "cell_type": "code",
   "execution_count": null,
   "metadata": {
    "id": "bqSrclAs5YUX"
   },
   "outputs": [],
   "source": []
  },
  {
   "cell_type": "code",
   "execution_count": null,
   "metadata": {
    "colab": {
     "base_uri": "https://localhost:8080/"
    },
    "id": "ozTO1wkR9RHn",
    "outputId": "4e40495c-f57d-4fe2-de9d-dc7dbba63353"
   },
   "outputs": [],
   "source": [
    "getTopicDist(adult_1,lda1, common_dictionary1, 10, mapping1)"
   ]
  },
  {
   "cell_type": "code",
   "execution_count": null,
   "metadata": {
    "colab": {
     "base_uri": "https://localhost:8080/"
    },
    "id": "50fNJFEu-B78",
    "outputId": "2899c9e1-6a64-4ee9-b78a-552d8bd1c173"
   },
   "outputs": [],
   "source": [
    "getTopicDist(adult_0,lda2, common_dictionary2, 10, mapping2)"
   ]
  },
  {
   "cell_type": "markdown",
   "metadata": {
    "id": "JYA1JFZM5zMD"
   },
   "source": [
    "### What are middle-aged talking about?"
   ]
  },
  {
   "cell_type": "code",
   "execution_count": null,
   "metadata": {
    "id": "LC2lo1Sv5yS9"
   },
   "outputs": [],
   "source": [
    "ma_1=data[(~data.age.isin(['>=40','<=18'])) & (data.opinion=='Support')]\n",
    "matexts_1 = list(ma_1['text'])\n",
    "adulttexts_1 = (' '.join(matexts_1)).split(' ')\n",
    "\n",
    "ma_0=data[(~data.age.isin(['>=40','<=18'])) & (data.opinion=='Against')]\n",
    "matexts_0 = list(ma_0['text'])\n",
    "matexts_0 = (' '.join(matexts_0)).split(' ')"
   ]
  },
  {
   "cell_type": "code",
   "execution_count": null,
   "metadata": {
    "colab": {
     "base_uri": "https://localhost:8080/"
    },
    "id": "Iy89m1YV6YbL",
    "outputId": "03855e91-7a0c-46f5-ef18-58b37eb9d05c"
   },
   "outputs": [],
   "source": [
    "getTopicDist(ma_1,lda1, common_dictionary1, 10, mapping1)"
   ]
  },
  {
   "cell_type": "code",
   "execution_count": null,
   "metadata": {
    "colab": {
     "base_uri": "https://localhost:8080/"
    },
    "id": "giHsAkh36YqY",
    "outputId": "578e65a3-202f-4ff9-bc19-0d0a8cabade5"
   },
   "outputs": [],
   "source": [
    "getTopicDist(ma_0,lda2, common_dictionary2, 10, mapping2)"
   ]
  },
  {
   "cell_type": "markdown",
   "metadata": {
    "id": "uGJgdjn39-XZ"
   },
   "source": [
    "### What are kids talking about?"
   ]
  },
  {
   "cell_type": "code",
   "execution_count": null,
   "metadata": {
    "id": "dluw7xry98rp"
   },
   "outputs": [],
   "source": [
    "kid_1=data[(data.age=='<=18') & (data.opinion=='Support')]\n",
    "kidtexts_1 = list(kid_1['text'])\n",
    "kidtexts_1 = (' '.join(kidtexts_1)).split(' ')\n",
    "\n",
    "kid_0=data[(data.age=='<=18') & (data.opinion=='Against')]\n",
    "kidtexts_0 = list(kid_0['text'])\n",
    "kidtexts_0 = (' '.join(kidtexts_0)).split(' ')"
   ]
  },
  {
   "cell_type": "code",
   "execution_count": null,
   "metadata": {
    "colab": {
     "base_uri": "https://localhost:8080/"
    },
    "id": "1S3iJ-cS-aXg",
    "outputId": "ced79e77-159b-43f4-ecb9-55879f828651"
   },
   "outputs": [],
   "source": [
    "getTopicDist(kid_1,lda1, common_dictionary1, 10, mapping1)"
   ]
  },
  {
   "cell_type": "code",
   "execution_count": null,
   "metadata": {
    "colab": {
     "base_uri": "https://localhost:8080/"
    },
    "id": "uXpZdw0X-eLw",
    "outputId": "c4e2eb8c-e9ed-4125-83cd-c7b3416fef4d"
   },
   "outputs": [],
   "source": [
    "getTopicDist(kid_0,lda2, common_dictionary2, 10, mapping2)"
   ]
  },
  {
   "cell_type": "code",
   "execution_count": null,
   "metadata": {
    "id": "uJrsiYCJ0trg"
   },
   "outputs": [],
   "source": []
  },
  {
   "cell_type": "markdown",
   "metadata": {
    "id": "EbRzltjUCjuF"
   },
   "source": [
    "## Sentiment"
   ]
  },
  {
   "cell_type": "markdown",
   "metadata": {
    "id": "Odx3KQ0UnyuS"
   },
   "source": [
    "### Positive"
   ]
  },
  {
   "cell_type": "code",
   "execution_count": null,
   "metadata": {
    "id": "B974WIt9Cim4"
   },
   "outputs": [],
   "source": [
    "alltexts_pos = list(data[data.sentiment=='pos']['text'])\n",
    "alltexts_pos = [[w for w in t.split(' ') if w not in commonStopWords] for t in alltexts_pos]"
   ]
  },
  {
   "cell_type": "code",
   "execution_count": null,
   "metadata": {
    "id": "oGfeuF2En6HZ"
   },
   "outputs": [],
   "source": [
    "common_dictionaryp = Dictionary(alltexts_pos)"
   ]
  },
  {
   "cell_type": "code",
   "execution_count": null,
   "metadata": {
    "id": "ikTx2qqLoD8c"
   },
   "outputs": [],
   "source": [
    "common_corpusp = [common_dictionaryp.doc2bow(text) for text in alltexts_pos]"
   ]
  },
  {
   "cell_type": "code",
   "execution_count": null,
   "metadata": {
    "id": "4okHuMiXoGbn"
   },
   "outputs": [],
   "source": [
    "ldap = models.LdaMulticore(common_corpusp, id2word=common_dictionaryp, num_topics=10, \n",
    "                                       random_state=100,\n",
    "                                       chunksize=100,\n",
    "                                       passes=10,\n",
    "                                       per_word_topics=True)"
   ]
  },
  {
   "cell_type": "code",
   "execution_count": null,
   "metadata": {
    "colab": {
     "base_uri": "https://localhost:8080/"
    },
    "id": "q8EJYzLUoPTf",
    "outputId": "0436e684-98b0-4bbb-9528-288198469d23"
   },
   "outputs": [],
   "source": [
    "ldap.print_topics()"
   ]
  },
  {
   "cell_type": "code",
   "execution_count": null,
   "metadata": {
    "colab": {
     "base_uri": "https://localhost:8080/",
     "height": 607
    },
    "id": "pPJXfG8Yrm1b",
    "outputId": "47ff9313-a4d3-4151-98f8-c280b71c7409"
   },
   "outputs": [],
   "source": [
    "stopwords = set(STOPWORDS)\n",
    "text = ' '.join([w for w in ' '.join(data[data.sentiment=='pos']['text']).split(' ') if w not in commonStopWords])\n",
    "wordcloud = WordCloud(width = 1500, height = 800,\n",
    "                background_color ='white',\n",
    "                stopwords = stopwords,\n",
    "                min_font_size = 10).generate(text)\n",
    "\n",
    "plt.figure(figsize = (15, 8), facecolor = None)\n",
    "plt.imshow(wordcloud)\n",
    "plt.axis(\"off\")\n",
    "plt.tight_layout(pad = 0)\n",
    " \n",
    "plt.show()"
   ]
  },
  {
   "cell_type": "markdown",
   "metadata": {
    "id": "Bm1iAsEHoth9"
   },
   "source": [
    "### Negative"
   ]
  },
  {
   "cell_type": "code",
   "execution_count": null,
   "metadata": {
    "id": "NcHEoob4oukS"
   },
   "outputs": [],
   "source": [
    "alltexts_neg = list(data[data.sentiment=='neg']['text'])\n",
    "alltexts_neg = [[w for w in t.split(' ') if w not in commonStopWords] for t in alltexts_neg]"
   ]
  },
  {
   "cell_type": "code",
   "execution_count": null,
   "metadata": {
    "id": "elNoBGGloymo"
   },
   "outputs": [],
   "source": [
    "common_dictionaryn = Dictionary(alltexts_neg)"
   ]
  },
  {
   "cell_type": "code",
   "execution_count": null,
   "metadata": {
    "id": "c9AFSeh9o1TB"
   },
   "outputs": [],
   "source": [
    "common_corpusn = [common_dictionaryn.doc2bow(text) for text in alltexts_neg]"
   ]
  },
  {
   "cell_type": "code",
   "execution_count": null,
   "metadata": {
    "id": "5clHm0mGo6FM"
   },
   "outputs": [],
   "source": [
    "ldan = models.LdaMulticore(common_corpusn, id2word=common_dictionaryn, num_topics=10, \n",
    "                                       random_state=100,\n",
    "                                       chunksize=100,\n",
    "                                       passes=10,\n",
    "                                       per_word_topics=True)"
   ]
  },
  {
   "cell_type": "code",
   "execution_count": null,
   "metadata": {
    "colab": {
     "base_uri": "https://localhost:8080/"
    },
    "id": "5dkWtT2Qo_FE",
    "outputId": "59ef7fb9-076b-4ed2-e68d-83f5832f616d"
   },
   "outputs": [],
   "source": [
    "ldan.print_topics()"
   ]
  },
  {
   "cell_type": "code",
   "execution_count": null,
   "metadata": {
    "colab": {
     "base_uri": "https://localhost:8080/",
     "height": 607
    },
    "id": "OCVqYHfsukvr",
    "outputId": "085b06d1-51a6-45c2-e734-dbbc11adc007"
   },
   "outputs": [],
   "source": [
    "stopwords = set(STOPWORDS)\n",
    "text = ' '.join([w for w in ' '.join(data[data.sentiment=='neg']['text']).split(' ') if w not in commonStopWords])\n",
    "wordcloud = WordCloud(width = 1500, height = 800,\n",
    "                background_color ='white',\n",
    "                stopwords = stopwords,\n",
    "                min_font_size = 10).generate(text)\n",
    "\n",
    "plt.figure(figsize = (15, 8), facecolor = None)\n",
    "plt.imshow(wordcloud)\n",
    "plt.axis(\"off\")\n",
    "plt.tight_layout(pad = 0)\n",
    " \n",
    "plt.show()"
   ]
  },
  {
   "cell_type": "markdown",
   "metadata": {
    "id": "QG5tEuTTvPZZ"
   },
   "source": [
    "## Global LDA + Sentiment"
   ]
  },
  {
   "cell_type": "code",
   "execution_count": null,
   "metadata": {
    "colab": {
     "base_uri": "https://localhost:8080/"
    },
    "id": "CjePqdK8XQAx",
    "outputId": "f71d72f9-ec53-4d50-dbf9-14e95a19301e"
   },
   "outputs": [],
   "source": [
    "alltexts = list(data['text'])\n",
    "alltexts = [[w for w in t.split(' ') if w not in commonStopWords] for t in alltexts]\n",
    "\n",
    "common_dictionary = Dictionary(alltexts)\n",
    "\n",
    "common_corpus = [common_dictionary.doc2bow(text) for text in alltexts]\n",
    "\n",
    "lda = models.LdaMulticore(common_corpus, id2word=common_dictionary, num_topics=10, \n",
    "                                       random_state=100,\n",
    "                                       chunksize=100,\n",
    "                                       passes=10,\n",
    "                                       per_word_topics=True)\n",
    "\n",
    "lda.print_topics()"
   ]
  },
  {
   "cell_type": "code",
   "execution_count": null,
   "metadata": {
    "id": "DuY4rIatXkeI"
   },
   "outputs": [],
   "source": [
    "mapping={'choice':[0], 'unborn':[3], 'religion':[5,7], 'healthcare':[9], 'hate':[1]}"
   ]
  },
  {
   "cell_type": "code",
   "execution_count": null,
   "metadata": {
    "id": "f0J-NCYKfqy5"
   },
   "outputs": [],
   "source": [
    "# Get dominant topic\n",
    "dominantTopics = []\n",
    "\n",
    "for _,row in data.iterrows():\n",
    "    text=row['text'].split(' ')\n",
    "    bow = common_dictionary.doc2bow(text)\n",
    "    output = list(zip(*lda[bow][0]))\n",
    "    indices = output[0]\n",
    "    probs = output[1]\n",
    "    topicNames = ['choice','unborn','religion','healthcare','hate speech']\n",
    "    maxTopicId = indices[np.argmax(probs)]\n",
    "    if maxTopicId==0:\n",
    "      dominantTopics.append('choice')\n",
    "    elif maxTopicId==3:\n",
    "      dominantTopics.append('unborn')\n",
    "    elif maxTopicId in [5,7]:\n",
    "      dominantTopics.append('religion')\n",
    "    elif maxTopicId==9:\n",
    "      dominantTopics.append('healthcare')\n",
    "    elif maxTopicId==1:\n",
    "      dominantTopics.append('hate speech')\n",
    "    else:\n",
    "      dominantTopics.append('other')"
   ]
  },
  {
   "cell_type": "code",
   "execution_count": null,
   "metadata": {
    "id": "Til84lURiTFf"
   },
   "outputs": [],
   "source": [
    "data['dominantTopic']=dominantTopics"
   ]
  },
  {
   "cell_type": "code",
   "execution_count": null,
   "metadata": {
    "id": "joGgm9V6iD0h"
   },
   "outputs": [],
   "source": []
  },
  {
   "cell_type": "code",
   "execution_count": null,
   "metadata": {
    "id": "sbj1bcmEt1B-"
   },
   "outputs": [],
   "source": [
    "mask = np.array(Image.open(\"4852757-middle.png\"))\n",
    "texas = np.array(Image.open(\"texas.jpg\"))"
   ]
  },
  {
   "cell_type": "markdown",
   "metadata": {
    "id": "jn8DK8nHDEwD"
   },
   "source": [
    "### Covid"
   ]
  },
  {
   "cell_type": "code",
   "execution_count": null,
   "metadata": {
    "colab": {
     "base_uri": "https://localhost:8080/",
     "height": 625
    },
    "id": "l0CJUY0jDFhY",
    "outputId": "d88f6896-6dee-4a46-dafe-a91f9def9d07"
   },
   "outputs": [],
   "source": [
    "coviddata = data[data.text.str.contains('vaccin')]\n",
    "print(coviddata.shape[0])\n",
    "\n",
    "colors = ImageColorGenerator(mask)\n",
    "\n",
    "stopwords = set(STOPWORDS)\n",
    "text = ' '.join([w for w in ' '.join(coviddata['text']).split(' ') if w not in commonStopWords])\n",
    "text = text.replace('vaccinated','').replace('vaccination','')\n",
    "wordcloud = WordCloud(width = 1500, height = 800,\n",
    "                background_color ='white',\n",
    "                stopwords = stopwords,\n",
    "                min_font_size = 10, \n",
    "                mask=mask,\n",
    "                color_func=colors,\n",
    "                max_words=200).generate(text)\n",
    "\n",
    "plt.figure(figsize = (15, 8), facecolor = None)\n",
    "plt.imshow(wordcloud)\n",
    "plt.axis(\"off\")\n",
    "plt.tight_layout(pad = 0)\n",
    " \n",
    "plt.show()"
   ]
  },
  {
   "cell_type": "markdown",
   "metadata": {
    "id": "rvQv-PjrIxAo"
   },
   "source": [
    "### Texas Taliban"
   ]
  },
  {
   "cell_type": "code",
   "execution_count": null,
   "metadata": {
    "colab": {
     "base_uri": "https://localhost:8080/",
     "height": 625
    },
    "id": "AwG8sbFhIwQK",
    "outputId": "777a7f2f-cafa-40cc-9326-d55e92d089e7"
   },
   "outputs": [],
   "source": [
    "ttdata = data[data.text.str.contains('taliban')]\n",
    "print(ttdata.shape[0])\n",
    "\n",
    "colors = ImageColorGenerator(mask)\n",
    "\n",
    "stopwords = set(STOPWORDS)\n",
    "text = ' '.join([w for w in ' '.join(ttdata['text']).split(' ') if w not in commonStopWords])\n",
    "\n",
    "wordcloud = WordCloud(width = 1500, height = 800,\n",
    "                background_color ='white',\n",
    "                stopwords = stopwords,\n",
    "                min_font_size = 10, \n",
    "                mask=mask,\n",
    "                color_func=colors,\n",
    "                max_words=200).generate(text)\n",
    "\n",
    "plt.figure(figsize = (15, 8), facecolor = None)\n",
    "plt.imshow(wordcloud)\n",
    "plt.axis(\"off\")\n",
    "plt.tight_layout(pad = 0)\n",
    " \n",
    "plt.show()"
   ]
  },
  {
   "cell_type": "markdown",
   "metadata": {
    "id": "b3gAqC3lJ01d"
   },
   "source": [
    "### God"
   ]
  },
  {
   "cell_type": "code",
   "execution_count": null,
   "metadata": {
    "colab": {
     "base_uri": "https://localhost:8080/",
     "height": 625
    },
    "id": "tdictXt8J1UJ",
    "outputId": "2f322a46-c1ca-4c6d-d28b-1570c6a3b7bc"
   },
   "outputs": [],
   "source": [
    "ttdata = data[data.text.str.contains('god') | data.text.str.contains('bible') | data.text.str.contains('catholic')]\n",
    "print(ttdata.shape[0])\n",
    "\n",
    "colors = ImageColorGenerator(mask)\n",
    "\n",
    "stopwords = set(STOPWORDS)\n",
    "text = ' '.join([w for w in ' '.join(ttdata['text']).split(' ') if w not in commonStopWords])\n",
    "\n",
    "wordcloud = WordCloud(width = 1500, height = 800,\n",
    "                background_color ='white',\n",
    "                stopwords = stopwords,\n",
    "                min_font_size = 10, \n",
    "                mask=mask,\n",
    "                color_func=colors,\n",
    "                max_words=200).generate(text)\n",
    "\n",
    "plt.figure(figsize = (15, 8), facecolor = None)\n",
    "plt.imshow(wordcloud)\n",
    "plt.axis(\"off\")\n",
    "plt.tight_layout(pad = 0)\n",
    " \n",
    "plt.show()"
   ]
  },
  {
   "cell_type": "markdown",
   "metadata": {
    "id": "G754BHoFKaJq"
   },
   "source": [
    "### Republican"
   ]
  },
  {
   "cell_type": "code",
   "execution_count": null,
   "metadata": {
    "colab": {
     "base_uri": "https://localhost:8080/",
     "height": 625
    },
    "id": "SiPe9VGqKadt",
    "outputId": "97962700-8db3-4f9d-878f-36790d408d9c"
   },
   "outputs": [],
   "source": [
    "ttdata = data[data.text.str.contains('healthcare') | data.text.str.contains('fund') | data.text.str.contains('donate')]\n",
    "print(ttdata.shape[0])\n",
    "\n",
    "colors = ImageColorGenerator(mask)\n",
    "\n",
    "stopwords = set(STOPWORDS)\n",
    "text = ' '.join([w for w in ' '.join(ttdata['text']).split(' ') if w not in commonStopWords])\n",
    "text = text.replace('human','').replace('woman','').replace('think','')\n",
    "\n",
    "wordcloud = WordCloud(width = 1500, height = 800,\n",
    "                background_color ='white',\n",
    "                stopwords = stopwords,\n",
    "                min_font_size = 10, \n",
    "                mask=mask,\n",
    "                color_func=colors).generate(text)\n",
    "\n",
    "plt.figure(figsize = (15, 8), facecolor = None)\n",
    "plt.imshow(wordcloud)\n",
    "plt.axis(\"off\")\n",
    "plt.tight_layout(pad = 0)\n",
    " \n",
    "plt.show()"
   ]
  },
  {
   "cell_type": "code",
   "execution_count": null,
   "metadata": {
    "colab": {
     "base_uri": "https://localhost:8080/",
     "height": 607
    },
    "id": "qZqT3T3zUL1f",
    "outputId": "d70d68be-d8c3-4c1a-b8ed-cc3c78f6bbaf"
   },
   "outputs": [],
   "source": [
    "texans = data[(~data.description.isna()\n",
    " & (data.description.str.lower().str.contains('texas')\n",
    " | data.description.str.lower().str.contains('tx'))) | (data.texas==1)]\n",
    "\n",
    "colors = ImageColorGenerator(mask)\n",
    "\n",
    "stopwords = set(STOPWORDS)\n",
    "text = ' '.join([w for w in ' '.join(texans['text']).split(' ') if w not in commonStopWords])\n",
    "text = text.replace('state','').replace('think','').replace('new',' ')\n",
    "\n",
    "wordcloud = WordCloud(width = 1500, height = 800,\n",
    "                background_color ='white',\n",
    "                stopwords = stopwords,\n",
    "                min_font_size = 10, \n",
    "                mask=texas).generate(text)\n",
    "\n",
    "plt.figure(figsize = (15, 8), facecolor = None)\n",
    "plt.imshow(wordcloud)\n",
    "plt.axis(\"off\")\n",
    "plt.tight_layout(pad = 0)\n",
    " \n",
    "plt.show()"
   ]
  },
  {
   "cell_type": "code",
   "execution_count": null,
   "metadata": {
    "id": "qP2PvjwtXgmc"
   },
   "outputs": [],
   "source": [
    "texans.to_csv('texans.csv',index=False)"
   ]
  },
  {
   "cell_type": "code",
   "execution_count": null,
   "metadata": {
    "id": "OH28wAc0XlHk"
   },
   "outputs": [],
   "source": []
  }
 ],
 "metadata": {
  "colab": {
   "collapsed_sections": [],
   "name": "LDA.ipynb",
   "provenance": []
  },
  "kernelspec": {
   "display_name": "Python 3 (ipykernel)",
   "language": "python",
   "name": "python3"
  },
  "language_info": {
   "codemirror_mode": {
    "name": "ipython",
    "version": 3
   },
   "file_extension": ".py",
   "mimetype": "text/x-python",
   "name": "python",
   "nbconvert_exporter": "python",
   "pygments_lexer": "ipython3",
   "version": "3.9.7"
  }
 },
 "nbformat": 4,
 "nbformat_minor": 1
}
