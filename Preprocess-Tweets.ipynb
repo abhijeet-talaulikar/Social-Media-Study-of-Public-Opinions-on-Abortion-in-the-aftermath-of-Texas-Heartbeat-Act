{
 "cells": [
  {
   "cell_type": "code",
   "execution_count": null,
   "id": "a8155596",
   "metadata": {},
   "outputs": [],
   "source": [
    "import numpy as np\n",
    "import pandas as pd\n",
    "import re\n",
    "import html\n",
    "import ast\n",
    "\n",
    "# import nltk\n",
    "# from nltk.tokenize import word_tokenize\n",
    "# from nltk.corpus import stopwords\n",
    "\n",
    "# nltk.download('stopwords')\n",
    "# nltk.download('punkt')"
   ]
  },
  {
   "cell_type": "markdown",
   "id": "d47c0af7",
   "metadata": {},
   "source": [
    "## Read data"
   ]
  },
  {
   "cell_type": "code",
   "execution_count": null,
   "id": "37ba7a02",
   "metadata": {},
   "outputs": [],
   "source": [
    "data = pd.read_csv('concatenatedAll.csv')"
   ]
  },
  {
   "cell_type": "code",
   "execution_count": null,
   "id": "6edba48b",
   "metadata": {},
   "outputs": [],
   "source": [
    "data"
   ]
  },
  {
   "cell_type": "code",
   "execution_count": null,
   "id": "a6f9f4e6",
   "metadata": {},
   "outputs": [],
   "source": [
    "#important_hashtags = ['probirth','prolife','proabortion','antiabortion','prochoice']"
   ]
  },
  {
   "cell_type": "code",
   "execution_count": null,
   "id": "8e3e3d4a",
   "metadata": {},
   "outputs": [],
   "source": [
    "def process_tweet(text):\n",
    "    text = re.sub(r\"(?:\\@|https?\\://)\\S+\", \"\", text)\n",
    "    text = html.unescape(text)\n",
    "    text = re.sub('[^A-Za-z ]+', '', text)\n",
    "    text = text.strip().lower()\n",
    "    \n",
    "    stop_words = stopwords.words('english')\n",
    "    word_tokens = word_tokenize(text)\n",
    "    word_tokens = [w for w in word_tokens if (not w in stop_words) and (len(w)>1) and (len(w)<25)]\n",
    "    text = ' '.join(word_tokens)\n",
    "    \n",
    "    return text"
   ]
  },
  {
   "cell_type": "code",
   "execution_count": null,
   "id": "3306bc3b",
   "metadata": {},
   "outputs": [],
   "source": [
    "data['text'] = data['text'].apply(process_tweet)"
   ]
  },
  {
   "cell_type": "code",
   "execution_count": null,
   "id": "d299f6e8",
   "metadata": {},
   "outputs": [],
   "source": [
    "data"
   ]
  },
  {
   "cell_type": "code",
   "execution_count": null,
   "id": "72db55c2",
   "metadata": {},
   "outputs": [],
   "source": []
  },
  {
   "cell_type": "code",
   "execution_count": null,
   "id": "669bd2c0",
   "metadata": {},
   "outputs": [],
   "source": [
    "p_data = data[data.text.str.len() > 0]"
   ]
  },
  {
   "cell_type": "code",
   "execution_count": null,
   "id": "f652bd1e",
   "metadata": {},
   "outputs": [],
   "source": [
    "p_data[['text','id','author_id','Class']].to_csv('PreprocessedAll.csv',index=False)"
   ]
  },
  {
   "cell_type": "code",
   "execution_count": null,
   "id": "6abdda42",
   "metadata": {},
   "outputs": [],
   "source": [
    "#temptweets.drop(['correct_author_id','Class'],axis=1).to_csv('preprocessed_tweets_correct.csv',index=False)"
   ]
  },
  {
   "cell_type": "code",
   "execution_count": null,
   "id": "d9e181b5",
   "metadata": {},
   "outputs": [],
   "source": [
    "temptweets=pd.read_csv('PreprocessedAll.csv')\n",
    "tempusers=pd.read_csv('ConcatenatedUsers_m3_eth.csv')\n",
    "tempusers.rename(columns={'id':'author_id'},inplace=True)\n",
    "tempusers.drop_duplicates('author_id',inplace=True)\n",
    "tempusers['author_id']=tempusers['author_id'].astype(str)\n",
    "temptweets['author_id']=temptweets['author_id'].astype(str)\n",
    "tempusers['NewClass'] = 1"
   ]
  },
  {
   "cell_type": "code",
   "execution_count": null,
   "id": "8fd1b41f",
   "metadata": {},
   "outputs": [],
   "source": [
    "f = open('classDict.txt','r')\n",
    "classDict = ast.literal_eval(f.readlines()[0])"
   ]
  },
  {
   "cell_type": "code",
   "execution_count": null,
   "id": "76fe5271",
   "metadata": {},
   "outputs": [],
   "source": []
  },
  {
   "cell_type": "code",
   "execution_count": null,
   "id": "8d45cb32",
   "metadata": {},
   "outputs": [],
   "source": [
    "len(set(temptweets.author_id)-set(tempusers.author_id))"
   ]
  },
  {
   "cell_type": "code",
   "execution_count": null,
   "id": "9338570d",
   "metadata": {},
   "outputs": [],
   "source": [
    "m =pd.merge(temptweets,tempusers,on='author_id')"
   ]
  },
  {
   "cell_type": "code",
   "execution_count": null,
   "id": "682bb63b",
   "metadata": {},
   "outputs": [],
   "source": [
    "m['opinion'] = m.author_id.map(classDict)\n",
    "m.opinion.value_counts()"
   ]
  },
  {
   "cell_type": "code",
   "execution_count": null,
   "id": "1f4ba1ad",
   "metadata": {},
   "outputs": [],
   "source": [
    "temptweets"
   ]
  },
  {
   "cell_type": "code",
   "execution_count": null,
   "id": "84146ac7",
   "metadata": {},
   "outputs": [],
   "source": [
    "correctMapping={}\n",
    "\n",
    "for badId in list(diff):\n",
    "    temp=badId[:6]\n",
    "    try:\n",
    "        userrow=tempusers[tempusers.author_id.str.startswith(temp)].iloc[0]\n",
    "        correctMapping[badId]=userrow.author_id\n",
    "    except:\n",
    "        pass"
   ]
  },
  {
   "cell_type": "code",
   "execution_count": null,
   "id": "739b5162",
   "metadata": {},
   "outputs": [],
   "source": [
    "str(temptweets.iloc[0].correct_author_id)"
   ]
  },
  {
   "cell_type": "code",
   "execution_count": null,
   "id": "95558321",
   "metadata": {},
   "outputs": [],
   "source": [
    "temptweets['correct_author_id']=temptweets.author_id.map(correctMapping)"
   ]
  },
  {
   "cell_type": "code",
   "execution_count": null,
   "id": "ee53b73d",
   "metadata": {},
   "outputs": [],
   "source": [
    "for i,row in temptweets.iterrows():\n",
    "    if str(row['correct_author_id'])!='nan':\n",
    "        temptweets.at[i,'author_id']=row['correct_author_id']"
   ]
  },
  {
   "cell_type": "code",
   "execution_count": null,
   "id": "73a38645",
   "metadata": {},
   "outputs": [],
   "source": [
    "tempUsers = pd.read_csv('concatenated_users_labelled.csv')"
   ]
  },
  {
   "cell_type": "code",
   "execution_count": null,
   "id": "9e6b6142",
   "metadata": {},
   "outputs": [],
   "source": [
    "def isinTexas(x):\n",
    "    x=str(x)\n",
    "    x=x.lower()\n",
    "    \n",
    "    tx=['texas','tx','dallas','houston','san antonio','austin','fort worth','el paso']\n",
    "    for i in tx:\n",
    "        if i in x:\n",
    "            return True\n",
    "    return False"
   ]
  },
  {
   "cell_type": "code",
   "execution_count": null,
   "id": "b089bd6b",
   "metadata": {},
   "outputs": [],
   "source": [
    "tempUsers['texas'] = tempUsers['location'].apply(isinTexas)"
   ]
  },
  {
   "cell_type": "code",
   "execution_count": null,
   "id": "f22cdc0c",
   "metadata": {},
   "outputs": [],
   "source": [
    "tempUsers[tempUsers.texas==1]"
   ]
  },
  {
   "cell_type": "code",
   "execution_count": null,
   "id": "227b6eb6",
   "metadata": {},
   "outputs": [],
   "source": [
    "tempUsers.texas.value_counts()"
   ]
  },
  {
   "cell_type": "code",
   "execution_count": null,
   "id": "425d5a08",
   "metadata": {},
   "outputs": [],
   "source": [
    "tempUsers.to_csv('withtexas.csv',index=False)"
   ]
  },
  {
   "cell_type": "code",
   "execution_count": null,
   "id": "cc4db2b3",
   "metadata": {},
   "outputs": [],
   "source": []
  }
 ],
 "metadata": {
  "kernelspec": {
   "display_name": "Python 3 (ipykernel)",
   "language": "python",
   "name": "python3"
  },
  "language_info": {
   "codemirror_mode": {
    "name": "ipython",
    "version": 3
   },
   "file_extension": ".py",
   "mimetype": "text/x-python",
   "name": "python",
   "nbconvert_exporter": "python",
   "pygments_lexer": "ipython3",
   "version": "3.9.7"
  }
 },
 "nbformat": 4,
 "nbformat_minor": 5
}
